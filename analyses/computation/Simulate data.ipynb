{
 "cells": [
  {
   "cell_type": "markdown",
   "metadata": {},
   "source": [
    "# Simulate data based on two norms model"
   ]
  },
  {
   "cell_type": "code",
   "execution_count": 15,
   "metadata": {},
   "outputs": [],
   "source": [
    "#Import some libraries\n",
    "\n",
    "import sys\n",
    "import numpy as np\n",
    "import matplotlib.pyplot as plt\n",
    "import seaborn as sns\n",
    "import os\n",
    "from inequalityaversion import two_norms_model\n"
   ]
  },
  {
   "cell_type": "markdown",
   "metadata": {},
   "source": [
    "### Make choices for some settings\n",
    "\n",
    "colors, axes, some simulation settings"
   ]
  },
  {
   "cell_type": "code",
   "execution_count": 16,
   "metadata": {
    "scrolled": true
   },
   "outputs": [],
   "source": [
    "#Set wd\n",
    "if sys.platform == 'win32':\n",
    "    base_dir = 'P:/3014018.13/experiment_3_DG_UG'\n",
    "elif sys.platform == 'linux':\n",
    "    base_dir = '/project/3014018.13/experiment_3_DG_UG'\n",
    "else:\n",
    "    base_dir = '/Users/rhmhuijsmans/Desktop/mac_Harvard/Donders/experiment_3_DG_UG/UGDGD/'\n",
    "\n",
    "\n",
    "plotdir = '%s/plots/' % base_dir\n",
    "\n",
    "if not os.path.exists(plotdir):\n",
    "    os.makedirs(plotdir)\n",
    "    \n",
    "#Set some colors\n",
    "twocolors = [\"#0093BA\", \"#5E9D45\"]\n",
    "threecolors= [\"#ba1319\", \"#f36f21\", \"#fff100\"]  \n",
    "sevencolors = ['#C70039','#FF5733', '#FF8D1A','#FFC300', '#EDDD53', '#ADD45C','#57C785']\n",
    "fourcolors = ['#C70039','#FF8D1A','#EDDD53','#57C785']\n",
    "\n",
    "#I don't like it continuously overwriting \n",
    "saveFigs = False\n",
    "\n",
    "#Settings for simulations\n",
    "WD = [0.19,0.75,3]\n",
    "WR = [0.19,0.75,3]\n",
    "thetaMin = 0; phiMin = 0; thetaMax = 0.5; phiMax= 1;\n",
    "thetaRange = [thetaMin,thetaMax]\n",
    "phiRange = [phiMin,phiMax]\n",
    "thetaPlotRange = [thetaMin-0.1,thetaMax + 0.1]\n",
    "thetaPlotRange = [phiMin-0.1,phiMax + 0.1]\n",
    "choicePlotRange = [-0.1,1.1]\n"
   ]
  },
  {
   "cell_type": "markdown",
   "metadata": {},
   "source": [
    "### Simulate the data"
   ]
  },
  {
   "cell_type": "code",
   "execution_count": 25,
   "metadata": {},
   "outputs": [],
   "source": [
    "   \n",
    "precision = 10\n",
    "theta = np.arange(thetaMin,thetaMax+.001,thetaMax/precision)\n",
    "phi = np.arange(phiMin,phiMax+.001,phiMax/precision)\n",
    "\n",
    "choice = np.zeros((len(WD),len(WR),len(phi),5,len(theta)))\n",
    "heatMap = np.zeros((len(WD),len(WR),len(theta),len(phi)))\n",
    "\n",
    "choiceIA = np.zeros((len(WD),len(WR),4,len(phi)))\n",
    "\n",
    "\n",
    "for WD_n in range(0,len(WD)):    \n",
    "    for WR_n in range(0,len(WR)):    \n",
    "        for i in range(0,len(theta)):    \n",
    "            for j in range(0,len(phi)):  \n",
    "                heatMap[WD_n,WR_n,i,j] = two_norms_model(WD[WD_n], WR[WR_n], theta[i], phi[j])\n",
    "                choice[WD_n,WR_n,i,0,j] = WD[WD_n]\n",
    "                choice[WD_n,WR_n,i,1,j] = WR[BP2n]\n",
    "                choice[WD_n,WR_n,i,2,j] = phi[j]\n",
    "                choice[WD_n,WR_n,i,3,j] = theta[i]\n",
    "                choice[WD_n,WR_n,i,4,j] = two_norms_model(WD[WD_n], WR[WR_n], theta[j], phi[i])\n",
    "\n",
    "\n",
    "#    pd.DataFrame(choice).to_csv(os.path.join(base_dir,\n",
    "#                            'analyses/results/Simulations_inequity_maximizer.csv'))     \n",
    "\n",
    "\n"
   ]
  },
  {
   "cell_type": "markdown",
   "metadata": {},
   "source": [
    "### Make a nice heatmap"
   ]
  },
  {
   "cell_type": "code",
   "execution_count": 26,
   "metadata": {},
   "outputs": [
    {
     "name": "stderr",
     "output_type": "stream",
     "text": [
      "/Users/rhmhuijsmans/opt/anaconda3/lib/python3.7/site-packages/ipykernel_launcher.py:41: UserWarning: This figure includes Axes that are not compatible with tight_layout, so results might be incorrect.\n"
     ]
    },
    {
     "data": {
      "image/png": "[encoded data removed]",
      "text/plain": [
       "<Figure size 720x720 with 10 Axes>"
      ]
     },
     "metadata": {
      "needs_background": "light"
     },
     "output_type": "display_data"
    }
   ],
   "source": [
    "ncols = 10\n",
    "sns.set_palette('Spectral',ncols)\n",
    "colorMap = sns.color_palette()[0:ncols]\n",
    "colorMap = colorMap[::-1]\n",
    "#Show investment in heatmaps\n",
    "fig1, axs = plt.subplots(len(WD),len(WR), figsize = (10,10))  \n",
    "cbar_ax = fig1.add_axes([.85, .3, .03, .4])\n",
    "\n",
    "num_ticks = 5\n",
    "# Make nice axis ticks\n",
    "axXticks = np.arange(0, phiMax+0.001, phiMax/10)\n",
    "axYticks = np.arange(0, thetaMax+0.001, thetaMax/10)\n",
    "axListX = ['']*((num_ticks*2)+1)\n",
    "axListY = ['']*((num_ticks*2)+1)\n",
    "yTicks = ['%.2f' %x for x in axYticks]\n",
    "xTicks = ['%.2f' %x for x in axXticks]\n",
    "axListX[::2] = xTicks[::2]\n",
    "axListY[::2] = yTicks[::2]\n",
    "\n",
    "for WDn in range(0,len(WD)):    \n",
    "    for WRn in range(0,len(WR)):\n",
    "        b = sns.heatmap(heatMap[WDn,WRn], vmin=0, vmax=1, yticklabels = axListY,\n",
    "                        xticklabels =  axListX,\n",
    "                    linewidth=0.5, ax = axs[WDn,WRn], cmap=colorMap,\n",
    "                    cbar = WDn + WRn == 0,\n",
    "                    cbar_ax=None if WDn+WRn else cbar_ax,\n",
    "                    cbar_kws={'label': 'Giving behavior ($)'})\n",
    "\n",
    "        b.set_yticks(np.arange(11)+0.5)\n",
    "        b.set_yticklabels(axListY, va = 'center')\n",
    "\n",
    "        b.invert_yaxis()            \n",
    "        if WRn == 0:\n",
    "            b.set_ylabel('DW: $%.2f\\nTheta\\n'%WD[WDn])\n",
    "        if WDn == (len(WD)-1):\n",
    "            b.set_xlabel('\\nPhi\\nRW: $%.2f'%WR[WRn])  \n",
    "        if (WRn != 0):\n",
    "            b.set_yticklabels([]) \n",
    "        if (WDn != (len(WD)-1)):\n",
    "            b.set_xticklabels([]) \n",
    "fig1.tight_layout(rect=[0, 0, .8, 0.9])\n",
    "\n",
    "figname = '%s/Distributors_maximizer_heatmap_NM' % plotdir\n",
    "if saveFigs:\n",
    "    plt.savefig('%s.png' % figname, bbox_inches='tight')\n",
    "    plt.savefig('%s.eps' % figname, format='eps', bbox_inches='tight')\n",
    "    \n",
    "\n"
   ]
  },
  {
   "cell_type": "markdown",
   "metadata": {},
   "source": [
    "### Whoop pretty awesome!\n",
    "On the diagonal no influence of Distributor/Receiver wealth. Here participants are equal. Top right is the situation where Distributor is less wealthy than the Receiver. Here the Distributor keeps more money (more blue) when phi is higher. Bottom left is where the distributor is richer, here they give away more to the Receiver when phi is higher."
   ]
  },
  {
   "cell_type": "code",
   "execution_count": null,
   "metadata": {},
   "outputs": [],
   "source": []
  }
 ],
 "metadata": {
  "kernelspec": {
   "display_name": "Python 3",
   "language": "python",
   "name": "python3"
  },
  "language_info": {
   "codemirror_mode": {
    "name": "ipython",
    "version": 3
   },
   "file_extension": ".py",
   "mimetype": "text/x-python",
   "name": "python",
   "nbconvert_exporter": "python",
   "pygments_lexer": "ipython3",
   "version": "3.7.6"
  }
 },
 "nbformat": 4,
 "nbformat_minor": 4
}
